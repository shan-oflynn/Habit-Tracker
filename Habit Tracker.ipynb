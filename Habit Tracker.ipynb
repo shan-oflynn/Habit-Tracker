{
 "cells": [
  {
   "cell_type": "code",
   "execution_count": 39,
   "id": "662dd0e2-fe2a-407c-8f5a-71b1138dd917",
   "metadata": {},
   "outputs": [],
   "source": [
    "# Import json to allow saving\n",
    "import json"
   ]
  },
  {
   "cell_type": "code",
   "execution_count": 1,
   "id": "c0401a2e-01c0-4b4c-9287-c2e082dcd2f4",
   "metadata": {},
   "outputs": [],
   "source": [
    "# Initializes habits dictionary\n",
    "habits = {}"
   ]
  },
  {
   "cell_type": "code",
   "execution_count": 19,
   "id": "85ee47e5-217b-47a7-a458-77cb2e060d78",
   "metadata": {},
   "outputs": [
    {
     "name": "stdin",
     "output_type": "stream",
     "text": [
      "What is your name? Kenny\n"
     ]
    }
   ],
   "source": [
    "# Ask for user. Cleans input\n",
    "user = input(\"What is your name?\").strip().title()\n",
    "\n",
    "# If user isn't already being tracked, adds to dictionary of users\n",
    "if user not in habits:\n",
    "    habits[user] = {}"
   ]
  },
  {
   "cell_type": "code",
   "execution_count": 46,
   "id": "35d7e0e6-97aa-4e8c-8946-f9268b12667a",
   "metadata": {},
   "outputs": [],
   "source": [
    "def save_habits():\n",
    "    with open(\"habits.json\", \"w\") as saved_habits:\n",
    "        json.dump(habits, saved_habits, indent = 4)"
   ]
  },
  {
   "cell_type": "code",
   "execution_count": 41,
   "id": "6ac10de2-6584-4b04-9eff-8fc9b9b8110a",
   "metadata": {},
   "outputs": [],
   "source": [
    "def add_habit():\n",
    "    # Asks user to input habit and frequency \n",
    "    new_habit = input(\"Please enter a habit you would like to track\")\n",
    "    new_habit = new_habit.title().strip() # gets rid of whitespace and fixes capitalization\n",
    "    while new_habit.strip() == \"\":\n",
    "        new_habit = input(\"Please enter a new habit\").strip().title()\n",
    "    if new_habit in habits[user]:\n",
    "        print(\"Habit already exists.\")\n",
    "        yes_or_no = input(\"Do you want to log this habit?\")\n",
    "        yes_or_no = yes_or_no.strip().lower()\n",
    "        if yes_or_no == \"yes\":\n",
    "            log_habit(user, new_habit)\n",
    "            return\n",
    "        else:\n",
    "            print(\"Habit not logged. Come back when you want to log a habit\")\n",
    "            return\n",
    "    \n",
    "    frequency = input(\"How often would you like to perform this habit per week\")\n",
    "\n",
    "    # Convert frequency to an integer\n",
    "    frequency = int(frequency)\n",
    "\n",
    "    # Adds new habit to habit list\n",
    "    habits[user][new_habit] = {\"frequency\" : frequency, \"count\" : 0} # initialize counter\n",
    "\n",
    "    # Save habit\n",
    "    save_habits()\n",
    "\n",
    "    # Print message and ask for yes or no\n",
    "    yes_or_no = input(\"Habit has been saved. Do you want to view saved habits?\")\n",
    "\n",
    "    # Allows response to be whatever case inputted and strips whitespace\n",
    "    yes_or_no = yes_or_no.lower().strip()\n",
    "    \n",
    "    # If yes, shows habits. If no gives a goodbye\n",
    "    if yes_or_no == \"yes\":\n",
    "        view_habits()\n",
    "    else:\n",
    "        print(\"Have a nice day\")"
   ]
  },
  {
   "cell_type": "code",
   "execution_count": 42,
   "id": "b1abd676-a8b2-4aa4-ae17-dde78796168d",
   "metadata": {},
   "outputs": [],
   "source": [
    "def log_habit(user, habit_name = None):\n",
    "\n",
    "    # if no habit name previously inputted, asks for habit\n",
    "    if habit_name is None:\n",
    "        while True:\n",
    "            habit_name = input(\"What habit would you like to log?\").strip().title()\n",
    "            if habit_name == \"\":\n",
    "                print(\"Entry not valid. Please try again.\")\n",
    "            else:\n",
    "                break # if given a valid input, break loop\n",
    "\n",
    "    # If habit is under inputted user's habits, add one to count; if not, asks user if they want to add habit\n",
    "    if habit_name in habits[user]:\n",
    "        habits[user][habit_name]['count'] += 1\n",
    "        print(f\"{habit_name} count is {habits[user][habit_name]['count']}\")\n",
    "        save_habits()\n",
    "    else: \n",
    "        yes_or_no = input(\"Habit has not been logged in my system. Would you like to add it?\")\n",
    "        yes_or_no = yes_or_no.strip().lower()\n",
    "        if yes_or_no == \"yes\":\n",
    "            add_habit(user) # Brings user back to add habit\n",
    "        else: \n",
    "            print(\"Please add a valid habit and try again\") # Exit statement telling user to try again"
   ]
  },
  {
   "cell_type": "code",
   "execution_count": 5,
   "id": "b4b05c9a-c9b1-4f40-8730-57520022a159",
   "metadata": {},
   "outputs": [],
   "source": [
    "def view_habits():\n",
    "    for habit_name, info in habits[user].items():\n",
    "        print(f\"{user}: {habit_name} {info['count']}/{info['frequency']}\")"
   ]
  },
  {
   "cell_type": "code",
   "execution_count": 37,
   "id": "91452c40-e50d-4c1b-b4c8-ecd99c74e16e",
   "metadata": {},
   "outputs": [],
   "source": [
    "def view_stats(user):\n",
    "    # Create standard bar size\n",
    "    bar_size = 10\n",
    "\n",
    "    # Print user stats for only current user\n",
    "    print(f\" Stats for {user}:\")\n",
    "\n",
    "    user_habits = habits.get(user, \"User not found\")\n",
    "        \n",
    "    for habit_name, info in user_habits.items():\n",
    "        count = info['count']\n",
    "        frequency = info['frequency']\n",
    "\n",
    "    # Skip a habit with a count of 0\n",
    "        if count == 0:\n",
    "            continue\n",
    "\n",
    "        # Create progress bar\n",
    "        progress = float(count / frequency)\n",
    "        filled_bar = int(progress * bar_size)\n",
    "        progress_bar = (filled_bar * \"▓\") + (bar_size - filled_bar) * \"░\"\n",
    "\n",
    "        # Print progress bar\n",
    "        print(f\"{habit_name:<15}[{progress_bar}] {count}/{frequency} {progress*100:.1f}%\")   "
   ]
  },
  {
   "cell_type": "code",
   "execution_count": null,
   "id": "38a63055-7f36-484c-8644-5842c2124b26",
   "metadata": {},
   "outputs": [],
   "source": [
    "# ASK USER WHAT THEY WANT TO DO"
   ]
  },
  {
   "cell_type": "code",
   "execution_count": 43,
   "id": "a6a80b81-688b-40b9-a78e-8fdf336ef39e",
   "metadata": {},
   "outputs": [
    {
     "name": "stdout",
     "output_type": "stream",
     "text": [
      "Please select the number of what you would like to do: \n",
      " 1. Add a habit \n",
      " 2. Log habit \n",
      " 3. View habits \n",
      " 4. View stats \n",
      " 5. Exit\n"
     ]
    },
    {
     "name": "stdin",
     "output_type": "stream",
     "text": [
      "Select a number 2\n"
     ]
    }
   ],
   "source": [
    "print(\"Please select the number of what you would like to do: \\n 1. Add a habit \\n 2. Log habit \\n 3. View habits \\n 4. View stats \\n 5. Exit\")\n",
    "selection = input(\"Select a number\")"
   ]
  },
  {
   "cell_type": "code",
   "execution_count": null,
   "id": "41de29fe-177b-42ef-9470-11f7c38be911",
   "metadata": {
    "scrolled": true
   },
   "outputs": [],
   "source": [
    "if selection == \"1\":\n",
    "    add_habit()\n",
    "elif selection == \"2\":\n",
    "    log_habit(user, habit_name = None)\n",
    "elif selection == \"3\":\n",
    "    view_habits()\n",
    "elif selection == \"4\": \n",
    "    view_stats(user)\n",
    "else:\n",
    "    print(\"Have a nice day\")"
   ]
  },
  {
   "cell_type": "code",
   "execution_count": null,
   "id": "bf08b0d3-6f9f-4673-9410-ddca14225536",
   "metadata": {},
   "outputs": [],
   "source": [
    "# User can mark a habit as completed for a specific date.\n",
    "#Store data persistently (e.g., using a JSON file, CSV, or SQLite database)."
   ]
  },
  {
   "cell_type": "code",
   "execution_count": null,
   "id": "7837b8ef-a01f-4927-b1db-9a42459077b2",
   "metadata": {},
   "outputs": [],
   "source": [
    "# Show completion percentage for each habit over the last 7 days.\n",
    "# BONUS: ASCII chart/graph"
   ]
  }
 ],
 "metadata": {
  "kernelspec": {
   "display_name": "anaconda-2024.02-py310",
   "language": "python",
   "name": "conda-env-anaconda-2024.02-py310-py"
  },
  "language_info": {
   "codemirror_mode": {
    "name": "ipython",
    "version": 3
   },
   "file_extension": ".py",
   "mimetype": "text/x-python",
   "name": "python",
   "nbconvert_exporter": "python",
   "pygments_lexer": "ipython3",
   "version": "3.10.14"
  }
 },
 "nbformat": 4,
 "nbformat_minor": 5
}
